{
 "cells": [
  {
   "cell_type": "markdown",
   "id": "76e47672",
   "metadata": {
    "_cell_guid": "b1076dfc-b9ad-4769-8c92-a6c4dae69d19",
    "_uuid": "8f2839f25d086af736a60e9eeb907d3b93b6e0e5",
    "execution": {
     "iopub.execute_input": "2022-12-02T14:23:43.822816Z",
     "iopub.status.busy": "2022-12-02T14:23:43.822367Z",
     "iopub.status.idle": "2022-12-02T14:23:52.776889Z",
     "shell.execute_reply": "2022-12-02T14:23:52.775961Z"
    },
    "papermill": {
     "duration": 8.975038,
     "end_time": "2022-12-02T14:23:52.779752",
     "exception": false,
     "start_time": "2022-12-02T14:23:43.804714",
     "status": "completed"
    },
    "tags": []
   },
   "source": [
    "#  Time Series Analysis and prediction of Stock Market data using                                                           Deep Learning Techniques"
   ]
  },
  {
   "cell_type": "code",
   "execution_count": 1,
   "id": "b5daa318",
   "metadata": {},
   "outputs": [],
   "source": [
    "\n",
    "import numpy as np\n",
    "import pandas as pd\n",
    "import datetime as dt\n",
    "import tensorflow as tf\n",
    "import matplotlib.pyplot as plt\n",
    "\n",
    "\n",
    "from sklearn.preprocessing import MinMaxScaler\n",
    "from sklearn.metrics import mean_squared_error\n",
    "\n",
    "from tensorflow.keras.models import Sequential\n",
    "from tensorflow.keras.layers import Dense, LSTM, Dropout\n",
    "from tensorflow.keras.callbacks import ModelCheckpoint, EarlyStopping\n",
    "\n",
    "\n",
    "import warnings\n",
    "warnings.filterwarnings('ignore')\n",
    "\n",
    "\n",
    "import os\n",
    "os.environ['TF_CPP_MIN_LOG_LEVEL'] = '3'\n",
    "tf.compat.v1.logging.set_verbosity(tf.compat.v1.logging.ERROR)"
   ]
  },
  {
   "cell_type": "code",
   "execution_count": null,
   "id": "43262fb2",
   "metadata": {},
   "outputs": [],
   "source": []
  },
  {
   "cell_type": "markdown",
   "id": "f8ad7961",
   "metadata": {},
   "source": [
    "### -->Preprocessing of the data"
   ]
  },
  {
   "cell_type": "code",
   "execution_count": 2,
   "id": "17d89494",
   "metadata": {
    "execution": {
     "iopub.execute_input": "2022-12-02T14:23:52.815371Z",
     "iopub.status.busy": "2022-12-02T14:23:52.814517Z",
     "iopub.status.idle": "2022-12-02T14:23:52.849680Z",
     "shell.execute_reply": "2022-12-02T14:23:52.848259Z"
    },
    "papermill": {
     "duration": 0.056172,
     "end_time": "2022-12-02T14:23:52.852707",
     "exception": false,
     "start_time": "2022-12-02T14:23:52.796535",
     "status": "completed"
    },
    "tags": []
   },
   "outputs": [],
   "source": [
    "df = pd.read_csv(\"ge.us.txt\")"
   ]
  },
  {
   "cell_type": "markdown",
   "id": "49053c7e",
   "metadata": {},
   "source": [
    "### chech if the data is stationary or not using Augmented Dickey Fuller Test"
   ]
  },
  {
   "cell_type": "code",
   "execution_count": 3,
   "id": "34d4ae5f",
   "metadata": {},
   "outputs": [],
   "source": [
    "from statsmodels.tsa.stattools import adfuller"
   ]
  },
  {
   "cell_type": "code",
   "execution_count": 4,
   "id": "25359b6d",
   "metadata": {},
   "outputs": [],
   "source": [
    "def adtest(dataset):\n",
    "    dftest = adfuller(dataset, autolag=\"AIC\")\n",
    "    print(\"1. ADF : \", dftest[0])\n",
    "    print(\"2. P-VALUES : \", dftest[1])\n",
    "    print(\"3. NUM OF LAGS : \", dftest[2])\n",
    "    print(\"4. NUM OF OBSERVATIONS USED FOR THE ADF REGRESSION AND CRITICAL VALUES CALCULATION : \", dftest[3])\n",
    "    print(\"5. CRITICAL VALUES : \")\n",
    "    for key, val in dftest[4].items():\n",
    "        print(\"\\t\", key, \": \",val)"
   ]
  },
  {
   "cell_type": "code",
   "execution_count": 5,
   "id": "4295ca25",
   "metadata": {},
   "outputs": [
    {
     "name": "stdout",
     "output_type": "stream",
     "text": [
      "1. ADF :  -5.291694750628635\n",
      "2. P-VALUES :  5.696778320417007e-06\n",
      "3. NUM OF LAGS :  42\n",
      "4. NUM OF OBSERVATIONS USED FOR THE ADF REGRESSION AND CRITICAL VALUES CALCULATION :  14015\n",
      "5. CRITICAL VALUES : \n",
      "\t 1% :  -3.430816678424626\n",
      "\t 5% :  -2.8617462506106843\n",
      "\t 10% :  -2.5668797824065726\n"
     ]
    }
   ],
   "source": [
    "adtest(df['Volume'])"
   ]
  },
  {
   "cell_type": "code",
   "execution_count": 6,
   "id": "04f8a7d5",
   "metadata": {
    "execution": {
     "iopub.execute_input": "2022-12-02T14:23:52.886650Z",
     "iopub.status.busy": "2022-12-02T14:23:52.886175Z",
     "iopub.status.idle": "2022-12-02T14:23:52.913424Z",
     "shell.execute_reply": "2022-12-02T14:23:52.912519Z"
    },
    "papermill": {
     "duration": 0.047193,
     "end_time": "2022-12-02T14:23:52.915991",
     "exception": false,
     "start_time": "2022-12-02T14:23:52.868798",
     "status": "completed"
    },
    "tags": []
   },
   "outputs": [
    {
     "data": {
      "text/html": [
       "<div>\n",
       "<style scoped>\n",
       "    .dataframe tbody tr th:only-of-type {\n",
       "        vertical-align: middle;\n",
       "    }\n",
       "\n",
       "    .dataframe tbody tr th {\n",
       "        vertical-align: top;\n",
       "    }\n",
       "\n",
       "    .dataframe thead th {\n",
       "        text-align: right;\n",
       "    }\n",
       "</style>\n",
       "<table border=\"1\" class=\"dataframe\">\n",
       "  <thead>\n",
       "    <tr style=\"text-align: right;\">\n",
       "      <th></th>\n",
       "      <th>Date</th>\n",
       "      <th>Open</th>\n",
       "      <th>High</th>\n",
       "      <th>Low</th>\n",
       "      <th>Close</th>\n",
       "      <th>Volume</th>\n",
       "      <th>OpenInt</th>\n",
       "    </tr>\n",
       "  </thead>\n",
       "  <tbody>\n",
       "    <tr>\n",
       "      <th>0</th>\n",
       "      <td>1962-01-02</td>\n",
       "      <td>0.6277</td>\n",
       "      <td>0.6362</td>\n",
       "      <td>0.6201</td>\n",
       "      <td>0.6201</td>\n",
       "      <td>2575579</td>\n",
       "      <td>0</td>\n",
       "    </tr>\n",
       "    <tr>\n",
       "      <th>1</th>\n",
       "      <td>1962-01-03</td>\n",
       "      <td>0.6201</td>\n",
       "      <td>0.6201</td>\n",
       "      <td>0.6122</td>\n",
       "      <td>0.6201</td>\n",
       "      <td>1764749</td>\n",
       "      <td>0</td>\n",
       "    </tr>\n",
       "    <tr>\n",
       "      <th>2</th>\n",
       "      <td>1962-01-04</td>\n",
       "      <td>0.6201</td>\n",
       "      <td>0.6201</td>\n",
       "      <td>0.6037</td>\n",
       "      <td>0.6122</td>\n",
       "      <td>2194010</td>\n",
       "      <td>0</td>\n",
       "    </tr>\n",
       "    <tr>\n",
       "      <th>3</th>\n",
       "      <td>1962-01-05</td>\n",
       "      <td>0.6122</td>\n",
       "      <td>0.6122</td>\n",
       "      <td>0.5798</td>\n",
       "      <td>0.5957</td>\n",
       "      <td>3255244</td>\n",
       "      <td>0</td>\n",
       "    </tr>\n",
       "    <tr>\n",
       "      <th>4</th>\n",
       "      <td>1962-01-08</td>\n",
       "      <td>0.5957</td>\n",
       "      <td>0.5957</td>\n",
       "      <td>0.5716</td>\n",
       "      <td>0.5957</td>\n",
       "      <td>3696430</td>\n",
       "      <td>0</td>\n",
       "    </tr>\n",
       "  </tbody>\n",
       "</table>\n",
       "</div>"
      ],
      "text/plain": [
       "         Date    Open    High     Low   Close   Volume  OpenInt\n",
       "0  1962-01-02  0.6277  0.6362  0.6201  0.6201  2575579        0\n",
       "1  1962-01-03  0.6201  0.6201  0.6122  0.6201  1764749        0\n",
       "2  1962-01-04  0.6201  0.6201  0.6037  0.6122  2194010        0\n",
       "3  1962-01-05  0.6122  0.6122  0.5798  0.5957  3255244        0\n",
       "4  1962-01-08  0.5957  0.5957  0.5716  0.5957  3696430        0"
      ]
     },
     "execution_count": 6,
     "metadata": {},
     "output_type": "execute_result"
    }
   ],
   "source": [
    "df.head()"
   ]
  },
  {
   "cell_type": "code",
   "execution_count": 7,
   "id": "fa0dece7",
   "metadata": {
    "execution": {
     "iopub.execute_input": "2022-12-02T14:23:52.950600Z",
     "iopub.status.busy": "2022-12-02T14:23:52.949470Z",
     "iopub.status.idle": "2022-12-02T14:23:52.965989Z",
     "shell.execute_reply": "2022-12-02T14:23:52.964774Z"
    },
    "papermill": {
     "duration": 0.036712,
     "end_time": "2022-12-02T14:23:52.968685",
     "exception": false,
     "start_time": "2022-12-02T14:23:52.931973",
     "status": "completed"
    },
    "tags": []
   },
   "outputs": [
    {
     "data": {
      "text/html": [
       "<div>\n",
       "<style scoped>\n",
       "    .dataframe tbody tr th:only-of-type {\n",
       "        vertical-align: middle;\n",
       "    }\n",
       "\n",
       "    .dataframe tbody tr th {\n",
       "        vertical-align: top;\n",
       "    }\n",
       "\n",
       "    .dataframe thead th {\n",
       "        text-align: right;\n",
       "    }\n",
       "</style>\n",
       "<table border=\"1\" class=\"dataframe\">\n",
       "  <thead>\n",
       "    <tr style=\"text-align: right;\">\n",
       "      <th></th>\n",
       "      <th>Date</th>\n",
       "      <th>Open</th>\n",
       "      <th>High</th>\n",
       "      <th>Low</th>\n",
       "      <th>Close</th>\n",
       "      <th>Volume</th>\n",
       "      <th>OpenInt</th>\n",
       "    </tr>\n",
       "  </thead>\n",
       "  <tbody>\n",
       "    <tr>\n",
       "      <th>14053</th>\n",
       "      <td>2017-11-06</td>\n",
       "      <td>20.52</td>\n",
       "      <td>20.530</td>\n",
       "      <td>20.08</td>\n",
       "      <td>20.13</td>\n",
       "      <td>60641787</td>\n",
       "      <td>0</td>\n",
       "    </tr>\n",
       "    <tr>\n",
       "      <th>14054</th>\n",
       "      <td>2017-11-07</td>\n",
       "      <td>20.17</td>\n",
       "      <td>20.250</td>\n",
       "      <td>20.12</td>\n",
       "      <td>20.21</td>\n",
       "      <td>41622851</td>\n",
       "      <td>0</td>\n",
       "    </tr>\n",
       "    <tr>\n",
       "      <th>14055</th>\n",
       "      <td>2017-11-08</td>\n",
       "      <td>20.21</td>\n",
       "      <td>20.320</td>\n",
       "      <td>20.07</td>\n",
       "      <td>20.12</td>\n",
       "      <td>39672190</td>\n",
       "      <td>0</td>\n",
       "    </tr>\n",
       "    <tr>\n",
       "      <th>14056</th>\n",
       "      <td>2017-11-09</td>\n",
       "      <td>20.04</td>\n",
       "      <td>20.071</td>\n",
       "      <td>19.85</td>\n",
       "      <td>19.99</td>\n",
       "      <td>50831779</td>\n",
       "      <td>0</td>\n",
       "    </tr>\n",
       "    <tr>\n",
       "      <th>14057</th>\n",
       "      <td>2017-11-10</td>\n",
       "      <td>19.98</td>\n",
       "      <td>20.680</td>\n",
       "      <td>19.90</td>\n",
       "      <td>20.49</td>\n",
       "      <td>100698474</td>\n",
       "      <td>0</td>\n",
       "    </tr>\n",
       "  </tbody>\n",
       "</table>\n",
       "</div>"
      ],
      "text/plain": [
       "             Date   Open    High    Low  Close     Volume  OpenInt\n",
       "14053  2017-11-06  20.52  20.530  20.08  20.13   60641787        0\n",
       "14054  2017-11-07  20.17  20.250  20.12  20.21   41622851        0\n",
       "14055  2017-11-08  20.21  20.320  20.07  20.12   39672190        0\n",
       "14056  2017-11-09  20.04  20.071  19.85  19.99   50831779        0\n",
       "14057  2017-11-10  19.98  20.680  19.90  20.49  100698474        0"
      ]
     },
     "execution_count": 7,
     "metadata": {},
     "output_type": "execute_result"
    }
   ],
   "source": [
    "df.tail()"
   ]
  },
  {
   "cell_type": "code",
   "execution_count": 8,
   "id": "15d9c24b",
   "metadata": {
    "_kg_hide-input": true,
    "execution": {
     "iopub.execute_input": "2022-12-02T14:23:53.005289Z",
     "iopub.status.busy": "2022-12-02T14:23:53.004506Z",
     "iopub.status.idle": "2022-12-02T14:23:53.013764Z",
     "shell.execute_reply": "2022-12-02T14:23:53.012486Z"
    },
    "papermill": {
     "duration": 0.030465,
     "end_time": "2022-12-02T14:23:53.016330",
     "exception": false,
     "start_time": "2022-12-02T14:23:52.985865",
     "status": "completed"
    },
    "tags": []
   },
   "outputs": [
    {
     "name": "stdout",
     "output_type": "stream",
     "text": [
      "            0.00          0.05          0.50          0.95          0.99  \\\n",
      "Open     0.45902  6.683000e-01  3.880900e+00  3.083500e+01  4.156000e+01   \n",
      "High     0.46690  6.683000e-01  3.912700e+00  3.110900e+01  4.220687e+01   \n",
      "Low      0.45114  6.602000e-01  3.824300e+00  3.052325e+01  4.090301e+01   \n",
      "Close    0.45902  6.683000e-01  3.884800e+00  3.079520e+01  4.161400e+01   \n",
      "Volume   0.00000  1.776671e+06  1.597520e+07  7.796374e+07  1.590421e+08   \n",
      "OpenInt  0.00000  0.000000e+00  0.000000e+00  0.000000e+00  0.000000e+00   \n",
      "\n",
      "                 1.00  \n",
      "Open     4.775100e+01  \n",
      "High     4.845900e+01  \n",
      "Low      4.759600e+01  \n",
      "Close    4.805600e+01  \n",
      "Volume   9.345354e+08  \n",
      "OpenInt  0.000000e+00  \n"
     ]
    }
   ],
   "source": [
    "print(df.quantile([0, 0.05, 0.50, 0.95, 0.99, 1]).T)"
   ]
  },
  {
   "cell_type": "code",
   "execution_count": 9,
   "id": "b875e2f4",
   "metadata": {},
   "outputs": [
    {
     "name": "stdout",
     "output_type": "stream",
     "text": [
      "Date       0\n",
      "Open       0\n",
      "High       0\n",
      "Low        0\n",
      "Close      0\n",
      "Volume     0\n",
      "OpenInt    0\n",
      "dtype: int64\n"
     ]
    }
   ],
   "source": [
    "print(df.isnull().sum())"
   ]
  },
  {
   "cell_type": "code",
   "execution_count": 10,
   "id": "d69d92d8",
   "metadata": {},
   "outputs": [
    {
     "name": "stdout",
     "output_type": "stream",
     "text": [
      "(14058, 7)\n"
     ]
    }
   ],
   "source": [
    "print(df.shape)"
   ]
  },
  {
   "cell_type": "code",
   "execution_count": 11,
   "id": "9c49514e",
   "metadata": {},
   "outputs": [
    {
     "name": "stdout",
     "output_type": "stream",
     "text": [
      "Date        object\n",
      "Open       float64\n",
      "High       float64\n",
      "Low        float64\n",
      "Close      float64\n",
      "Volume       int64\n",
      "OpenInt      int64\n",
      "dtype: object\n"
     ]
    }
   ],
   "source": [
    "print(df.dtypes)\n"
   ]
  },
  {
   "cell_type": "code",
   "execution_count": 12,
   "id": "a95088d0",
   "metadata": {
    "execution": {
     "iopub.execute_input": "2022-12-02T14:23:53.122365Z",
     "iopub.status.busy": "2022-12-02T14:23:53.121884Z",
     "iopub.status.idle": "2022-12-02T14:23:53.134782Z",
     "shell.execute_reply": "2022-12-02T14:23:53.133776Z"
    },
    "papermill": {
     "duration": 0.033351,
     "end_time": "2022-12-02T14:23:53.137275",
     "exception": false,
     "start_time": "2022-12-02T14:23:53.103924",
     "status": "completed"
    },
    "tags": []
   },
   "outputs": [],
   "source": [
    "df[\"Date\"]=pd.to_datetime(df[\"Date\"])"
   ]
  },
  {
   "cell_type": "code",
   "execution_count": 13,
   "id": "86bfbf20",
   "metadata": {
    "execution": {
     "iopub.execute_input": "2022-12-02T14:23:53.171242Z",
     "iopub.status.busy": "2022-12-02T14:23:53.170820Z",
     "iopub.status.idle": "2022-12-02T14:23:53.187222Z",
     "shell.execute_reply": "2022-12-02T14:23:53.185927Z"
    },
    "papermill": {
     "duration": 0.036317,
     "end_time": "2022-12-02T14:23:53.189731",
     "exception": false,
     "start_time": "2022-12-02T14:23:53.153414",
     "status": "completed"
    },
    "tags": []
   },
   "outputs": [
    {
     "data": {
      "text/html": [
       "<div>\n",
       "<style scoped>\n",
       "    .dataframe tbody tr th:only-of-type {\n",
       "        vertical-align: middle;\n",
       "    }\n",
       "\n",
       "    .dataframe tbody tr th {\n",
       "        vertical-align: top;\n",
       "    }\n",
       "\n",
       "    .dataframe thead th {\n",
       "        text-align: right;\n",
       "    }\n",
       "</style>\n",
       "<table border=\"1\" class=\"dataframe\">\n",
       "  <thead>\n",
       "    <tr style=\"text-align: right;\">\n",
       "      <th></th>\n",
       "      <th>Date</th>\n",
       "      <th>Open</th>\n",
       "      <th>High</th>\n",
       "      <th>Low</th>\n",
       "      <th>Close</th>\n",
       "      <th>Volume</th>\n",
       "      <th>OpenInt</th>\n",
       "    </tr>\n",
       "  </thead>\n",
       "  <tbody>\n",
       "    <tr>\n",
       "      <th>0</th>\n",
       "      <td>1962-01-02</td>\n",
       "      <td>0.6277</td>\n",
       "      <td>0.6362</td>\n",
       "      <td>0.6201</td>\n",
       "      <td>0.6201</td>\n",
       "      <td>2575579</td>\n",
       "      <td>0</td>\n",
       "    </tr>\n",
       "    <tr>\n",
       "      <th>1</th>\n",
       "      <td>1962-01-03</td>\n",
       "      <td>0.6201</td>\n",
       "      <td>0.6201</td>\n",
       "      <td>0.6122</td>\n",
       "      <td>0.6201</td>\n",
       "      <td>1764749</td>\n",
       "      <td>0</td>\n",
       "    </tr>\n",
       "    <tr>\n",
       "      <th>2</th>\n",
       "      <td>1962-01-04</td>\n",
       "      <td>0.6201</td>\n",
       "      <td>0.6201</td>\n",
       "      <td>0.6037</td>\n",
       "      <td>0.6122</td>\n",
       "      <td>2194010</td>\n",
       "      <td>0</td>\n",
       "    </tr>\n",
       "    <tr>\n",
       "      <th>3</th>\n",
       "      <td>1962-01-05</td>\n",
       "      <td>0.6122</td>\n",
       "      <td>0.6122</td>\n",
       "      <td>0.5798</td>\n",
       "      <td>0.5957</td>\n",
       "      <td>3255244</td>\n",
       "      <td>0</td>\n",
       "    </tr>\n",
       "    <tr>\n",
       "      <th>4</th>\n",
       "      <td>1962-01-08</td>\n",
       "      <td>0.5957</td>\n",
       "      <td>0.5957</td>\n",
       "      <td>0.5716</td>\n",
       "      <td>0.5957</td>\n",
       "      <td>3696430</td>\n",
       "      <td>0</td>\n",
       "    </tr>\n",
       "  </tbody>\n",
       "</table>\n",
       "</div>"
      ],
      "text/plain": [
       "        Date    Open    High     Low   Close   Volume  OpenInt\n",
       "0 1962-01-02  0.6277  0.6362  0.6201  0.6201  2575579        0\n",
       "1 1962-01-03  0.6201  0.6201  0.6122  0.6201  1764749        0\n",
       "2 1962-01-04  0.6201  0.6201  0.6037  0.6122  2194010        0\n",
       "3 1962-01-05  0.6122  0.6122  0.5798  0.5957  3255244        0\n",
       "4 1962-01-08  0.5957  0.5957  0.5716  0.5957  3696430        0"
      ]
     },
     "execution_count": 13,
     "metadata": {},
     "output_type": "execute_result"
    }
   ],
   "source": [
    "df.head()"
   ]
  },
  {
   "cell_type": "code",
   "execution_count": 14,
   "id": "acf9a553",
   "metadata": {
    "execution": {
     "iopub.execute_input": "2022-12-02T14:23:53.259167Z",
     "iopub.status.busy": "2022-12-02T14:23:53.258710Z",
     "iopub.status.idle": "2022-12-02T14:23:53.267728Z",
     "shell.execute_reply": "2022-12-02T14:23:53.266428Z"
    },
    "papermill": {
     "duration": 0.030274,
     "end_time": "2022-12-02T14:23:53.270708",
     "exception": false,
     "start_time": "2022-12-02T14:23:53.240434",
     "status": "completed"
    },
    "tags": []
   },
   "outputs": [],
   "source": [
    "Stock_df= df[[\"Date\",\"Close\"]]"
   ]
  },
  {
   "cell_type": "code",
   "execution_count": 15,
   "id": "b9e035ef",
   "metadata": {
    "execution": {
     "iopub.execute_input": "2022-12-02T14:23:53.310388Z",
     "iopub.status.busy": "2022-12-02T14:23:53.309174Z",
     "iopub.status.idle": "2022-12-02T14:23:53.320612Z",
     "shell.execute_reply": "2022-12-02T14:23:53.319622Z"
    },
    "papermill": {
     "duration": 0.033788,
     "end_time": "2022-12-02T14:23:53.322926",
     "exception": false,
     "start_time": "2022-12-02T14:23:53.289138",
     "status": "completed"
    },
    "tags": []
   },
   "outputs": [
    {
     "data": {
      "text/html": [
       "<div>\n",
       "<style scoped>\n",
       "    .dataframe tbody tr th:only-of-type {\n",
       "        vertical-align: middle;\n",
       "    }\n",
       "\n",
       "    .dataframe tbody tr th {\n",
       "        vertical-align: top;\n",
       "    }\n",
       "\n",
       "    .dataframe thead th {\n",
       "        text-align: right;\n",
       "    }\n",
       "</style>\n",
       "<table border=\"1\" class=\"dataframe\">\n",
       "  <thead>\n",
       "    <tr style=\"text-align: right;\">\n",
       "      <th></th>\n",
       "      <th>Date</th>\n",
       "      <th>Close</th>\n",
       "    </tr>\n",
       "  </thead>\n",
       "  <tbody>\n",
       "    <tr>\n",
       "      <th>0</th>\n",
       "      <td>1962-01-02</td>\n",
       "      <td>0.6201</td>\n",
       "    </tr>\n",
       "    <tr>\n",
       "      <th>1</th>\n",
       "      <td>1962-01-03</td>\n",
       "      <td>0.6201</td>\n",
       "    </tr>\n",
       "    <tr>\n",
       "      <th>2</th>\n",
       "      <td>1962-01-04</td>\n",
       "      <td>0.6122</td>\n",
       "    </tr>\n",
       "    <tr>\n",
       "      <th>3</th>\n",
       "      <td>1962-01-05</td>\n",
       "      <td>0.5957</td>\n",
       "    </tr>\n",
       "    <tr>\n",
       "      <th>4</th>\n",
       "      <td>1962-01-08</td>\n",
       "      <td>0.5957</td>\n",
       "    </tr>\n",
       "  </tbody>\n",
       "</table>\n",
       "</div>"
      ],
      "text/plain": [
       "        Date   Close\n",
       "0 1962-01-02  0.6201\n",
       "1 1962-01-03  0.6201\n",
       "2 1962-01-04  0.6122\n",
       "3 1962-01-05  0.5957\n",
       "4 1962-01-08  0.5957"
      ]
     },
     "execution_count": 15,
     "metadata": {},
     "output_type": "execute_result"
    }
   ],
   "source": [
    "Stock_df.head()"
   ]
  },
  {
   "cell_type": "code",
   "execution_count": 16,
   "id": "d198e2c7",
   "metadata": {
    "execution": {
     "iopub.execute_input": "2022-12-02T14:23:53.358686Z",
     "iopub.status.busy": "2022-12-02T14:23:53.357825Z",
     "iopub.status.idle": "2022-12-02T14:23:53.365170Z",
     "shell.execute_reply": "2022-12-02T14:23:53.363744Z"
    },
    "papermill": {
     "duration": 0.028446,
     "end_time": "2022-12-02T14:23:53.368066",
     "exception": false,
     "start_time": "2022-12-02T14:23:53.339620",
     "status": "completed"
    },
    "tags": []
   },
   "outputs": [
    {
     "name": "stdout",
     "output_type": "stream",
     "text": [
      "Min. Date: 1962-01-02 00:00:00\n",
      "Max. Date: 2017-11-10 00:00:00\n"
     ]
    }
   ],
   "source": [
    "print(\"Min. Date:\",Stock_df[\"Date\"].min())\n",
    "print(\"Max. Date:\",Stock_df[\"Date\"].max())"
   ]
  },
  {
   "cell_type": "code",
   "execution_count": 17,
   "id": "c17ec271",
   "metadata": {
    "execution": {
     "iopub.execute_input": "2022-12-02T14:23:53.406624Z",
     "iopub.status.busy": "2022-12-02T14:23:53.405743Z",
     "iopub.status.idle": "2022-12-02T14:23:53.411409Z",
     "shell.execute_reply": "2022-12-02T14:23:53.410275Z"
    },
    "papermill": {
     "duration": 0.027276,
     "end_time": "2022-12-02T14:23:53.413842",
     "exception": false,
     "start_time": "2022-12-02T14:23:53.386566",
     "status": "completed"
    },
    "tags": []
   },
   "outputs": [],
   "source": [
    "Stock_df.index=Stock_df[\"Date\"]"
   ]
  },
  {
   "cell_type": "code",
   "execution_count": 18,
   "id": "61039b52",
   "metadata": {
    "execution": {
     "iopub.execute_input": "2022-12-02T14:23:53.449707Z",
     "iopub.status.busy": "2022-12-02T14:23:53.449271Z",
     "iopub.status.idle": "2022-12-02T14:23:53.465989Z",
     "shell.execute_reply": "2022-12-02T14:23:53.464692Z"
    },
    "papermill": {
     "duration": 0.037421,
     "end_time": "2022-12-02T14:23:53.468291",
     "exception": false,
     "start_time": "2022-12-02T14:23:53.430870",
     "status": "completed"
    },
    "tags": []
   },
   "outputs": [
    {
     "data": {
      "text/html": [
       "<div>\n",
       "<style scoped>\n",
       "    .dataframe tbody tr th:only-of-type {\n",
       "        vertical-align: middle;\n",
       "    }\n",
       "\n",
       "    .dataframe tbody tr th {\n",
       "        vertical-align: top;\n",
       "    }\n",
       "\n",
       "    .dataframe thead th {\n",
       "        text-align: right;\n",
       "    }\n",
       "</style>\n",
       "<table border=\"1\" class=\"dataframe\">\n",
       "  <thead>\n",
       "    <tr style=\"text-align: right;\">\n",
       "      <th></th>\n",
       "      <th>Date</th>\n",
       "      <th>Close</th>\n",
       "    </tr>\n",
       "    <tr>\n",
       "      <th>Date</th>\n",
       "      <th></th>\n",
       "      <th></th>\n",
       "    </tr>\n",
       "  </thead>\n",
       "  <tbody>\n",
       "    <tr>\n",
       "      <th>1962-01-02</th>\n",
       "      <td>1962-01-02</td>\n",
       "      <td>0.6201</td>\n",
       "    </tr>\n",
       "    <tr>\n",
       "      <th>1962-01-03</th>\n",
       "      <td>1962-01-03</td>\n",
       "      <td>0.6201</td>\n",
       "    </tr>\n",
       "    <tr>\n",
       "      <th>1962-01-04</th>\n",
       "      <td>1962-01-04</td>\n",
       "      <td>0.6122</td>\n",
       "    </tr>\n",
       "    <tr>\n",
       "      <th>1962-01-05</th>\n",
       "      <td>1962-01-05</td>\n",
       "      <td>0.5957</td>\n",
       "    </tr>\n",
       "    <tr>\n",
       "      <th>1962-01-08</th>\n",
       "      <td>1962-01-08</td>\n",
       "      <td>0.5957</td>\n",
       "    </tr>\n",
       "    <tr>\n",
       "      <th>...</th>\n",
       "      <td>...</td>\n",
       "      <td>...</td>\n",
       "    </tr>\n",
       "    <tr>\n",
       "      <th>2017-11-06</th>\n",
       "      <td>2017-11-06</td>\n",
       "      <td>20.1300</td>\n",
       "    </tr>\n",
       "    <tr>\n",
       "      <th>2017-11-07</th>\n",
       "      <td>2017-11-07</td>\n",
       "      <td>20.2100</td>\n",
       "    </tr>\n",
       "    <tr>\n",
       "      <th>2017-11-08</th>\n",
       "      <td>2017-11-08</td>\n",
       "      <td>20.1200</td>\n",
       "    </tr>\n",
       "    <tr>\n",
       "      <th>2017-11-09</th>\n",
       "      <td>2017-11-09</td>\n",
       "      <td>19.9900</td>\n",
       "    </tr>\n",
       "    <tr>\n",
       "      <th>2017-11-10</th>\n",
       "      <td>2017-11-10</td>\n",
       "      <td>20.4900</td>\n",
       "    </tr>\n",
       "  </tbody>\n",
       "</table>\n",
       "<p>14058 rows × 2 columns</p>\n",
       "</div>"
      ],
      "text/plain": [
       "                 Date    Close\n",
       "Date                          \n",
       "1962-01-02 1962-01-02   0.6201\n",
       "1962-01-03 1962-01-03   0.6201\n",
       "1962-01-04 1962-01-04   0.6122\n",
       "1962-01-05 1962-01-05   0.5957\n",
       "1962-01-08 1962-01-08   0.5957\n",
       "...               ...      ...\n",
       "2017-11-06 2017-11-06  20.1300\n",
       "2017-11-07 2017-11-07  20.2100\n",
       "2017-11-08 2017-11-08  20.1200\n",
       "2017-11-09 2017-11-09  19.9900\n",
       "2017-11-10 2017-11-10  20.4900\n",
       "\n",
       "[14058 rows x 2 columns]"
      ]
     },
     "execution_count": 18,
     "metadata": {},
     "output_type": "execute_result"
    }
   ],
   "source": [
    "Stock_df"
   ]
  },
  {
   "cell_type": "code",
   "execution_count": 19,
   "id": "f5e68ee1",
   "metadata": {
    "execution": {
     "iopub.execute_input": "2022-12-02T14:23:53.506011Z",
     "iopub.status.busy": "2022-12-02T14:23:53.504830Z",
     "iopub.status.idle": "2022-12-02T14:23:53.512047Z",
     "shell.execute_reply": "2022-12-02T14:23:53.510966Z"
    },
    "papermill": {
     "duration": 0.028329,
     "end_time": "2022-12-02T14:23:53.514571",
     "exception": false,
     "start_time": "2022-12-02T14:23:53.486242",
     "status": "completed"
    },
    "tags": []
   },
   "outputs": [],
   "source": [
    "Stock_df.drop(\"Date\",axis=1,inplace=True)"
   ]
  },
  {
   "cell_type": "code",
   "execution_count": 20,
   "id": "cf852846",
   "metadata": {
    "execution": {
     "iopub.execute_input": "2022-12-02T14:23:53.551891Z",
     "iopub.status.busy": "2022-12-02T14:23:53.551039Z",
     "iopub.status.idle": "2022-12-02T14:23:53.565506Z",
     "shell.execute_reply": "2022-12-02T14:23:53.564257Z"
    },
    "papermill": {
     "duration": 0.035386,
     "end_time": "2022-12-02T14:23:53.567787",
     "exception": false,
     "start_time": "2022-12-02T14:23:53.532401",
     "status": "completed"
    },
    "tags": []
   },
   "outputs": [
    {
     "data": {
      "text/html": [
       "<div>\n",
       "<style scoped>\n",
       "    .dataframe tbody tr th:only-of-type {\n",
       "        vertical-align: middle;\n",
       "    }\n",
       "\n",
       "    .dataframe tbody tr th {\n",
       "        vertical-align: top;\n",
       "    }\n",
       "\n",
       "    .dataframe thead th {\n",
       "        text-align: right;\n",
       "    }\n",
       "</style>\n",
       "<table border=\"1\" class=\"dataframe\">\n",
       "  <thead>\n",
       "    <tr style=\"text-align: right;\">\n",
       "      <th></th>\n",
       "      <th>Close</th>\n",
       "    </tr>\n",
       "    <tr>\n",
       "      <th>Date</th>\n",
       "      <th></th>\n",
       "    </tr>\n",
       "  </thead>\n",
       "  <tbody>\n",
       "    <tr>\n",
       "      <th>1962-01-02</th>\n",
       "      <td>0.6201</td>\n",
       "    </tr>\n",
       "    <tr>\n",
       "      <th>1962-01-03</th>\n",
       "      <td>0.6201</td>\n",
       "    </tr>\n",
       "    <tr>\n",
       "      <th>1962-01-04</th>\n",
       "      <td>0.6122</td>\n",
       "    </tr>\n",
       "    <tr>\n",
       "      <th>1962-01-05</th>\n",
       "      <td>0.5957</td>\n",
       "    </tr>\n",
       "    <tr>\n",
       "      <th>1962-01-08</th>\n",
       "      <td>0.5957</td>\n",
       "    </tr>\n",
       "    <tr>\n",
       "      <th>...</th>\n",
       "      <td>...</td>\n",
       "    </tr>\n",
       "    <tr>\n",
       "      <th>2017-11-06</th>\n",
       "      <td>20.1300</td>\n",
       "    </tr>\n",
       "    <tr>\n",
       "      <th>2017-11-07</th>\n",
       "      <td>20.2100</td>\n",
       "    </tr>\n",
       "    <tr>\n",
       "      <th>2017-11-08</th>\n",
       "      <td>20.1200</td>\n",
       "    </tr>\n",
       "    <tr>\n",
       "      <th>2017-11-09</th>\n",
       "      <td>19.9900</td>\n",
       "    </tr>\n",
       "    <tr>\n",
       "      <th>2017-11-10</th>\n",
       "      <td>20.4900</td>\n",
       "    </tr>\n",
       "  </tbody>\n",
       "</table>\n",
       "<p>14058 rows × 1 columns</p>\n",
       "</div>"
      ],
      "text/plain": [
       "              Close\n",
       "Date               \n",
       "1962-01-02   0.6201\n",
       "1962-01-03   0.6201\n",
       "1962-01-04   0.6122\n",
       "1962-01-05   0.5957\n",
       "1962-01-08   0.5957\n",
       "...             ...\n",
       "2017-11-06  20.1300\n",
       "2017-11-07  20.2100\n",
       "2017-11-08  20.1200\n",
       "2017-11-09  19.9900\n",
       "2017-11-10  20.4900\n",
       "\n",
       "[14058 rows x 1 columns]"
      ]
     },
     "execution_count": 20,
     "metadata": {},
     "output_type": "execute_result"
    }
   ],
   "source": [
    "Stock_df"
   ]
  },
  {
   "cell_type": "code",
   "execution_count": 21,
   "id": "98b9a050",
   "metadata": {
    "execution": {
     "iopub.execute_input": "2022-12-02T14:23:53.605496Z",
     "iopub.status.busy": "2022-12-02T14:23:53.604687Z",
     "iopub.status.idle": "2022-12-02T14:23:53.610688Z",
     "shell.execute_reply": "2022-12-02T14:23:53.609406Z"
    },
    "papermill": {
     "duration": 0.027445,
     "end_time": "2022-12-02T14:23:53.613041",
     "exception": false,
     "start_time": "2022-12-02T14:23:53.585596",
     "status": "completed"
    },
    "tags": []
   },
   "outputs": [],
   "source": [
    "result_df=Stock_df.copy()"
   ]
  },
  {
   "cell_type": "code",
   "execution_count": 22,
   "id": "bfa70868",
   "metadata": {
    "execution": {
     "iopub.execute_input": "2022-12-02T14:23:53.650222Z",
     "iopub.status.busy": "2022-12-02T14:23:53.649748Z",
     "iopub.status.idle": "2022-12-02T14:23:53.983303Z",
     "shell.execute_reply": "2022-12-02T14:23:53.981954Z"
    },
    "papermill": {
     "duration": 0.355454,
     "end_time": "2022-12-02T14:23:53.985918",
     "exception": false,
     "start_time": "2022-12-02T14:23:53.630464",
     "status": "completed"
    },
    "tags": []
   },
   "outputs": [
    {
     "data": {
      "image/png": "[encoded data removed]",
      "text/plain": [
       "<Figure size 864x432 with 1 Axes>"
      ]
     },
     "metadata": {
      "needs_background": "light"
     },
     "output_type": "display_data"
    }
   ],
   "source": [
    "plt.figure(figsize=(12,6))\n",
    "plt.plot(Stock_df[\"Close\"],color=\"blue\")\n",
    "plt.ylabel(\"Stock Price\")\n",
    "plt.title(\"Tesla Stock Market Price\")\n",
    "plt.xlabel(\"Time\")\n",
    "plt.show()"
   ]
  },
  {
   "cell_type": "code",
   "execution_count": 23,
   "id": "85492e92",
   "metadata": {
    "execution": {
     "iopub.execute_input": "2022-12-02T14:23:54.064862Z",
     "iopub.status.busy": "2022-12-02T14:23:54.064426Z",
     "iopub.status.idle": "2022-12-02T14:23:54.070403Z",
     "shell.execute_reply": "2022-12-02T14:23:54.069096Z"
    },
    "papermill": {
     "duration": 0.03133,
     "end_time": "2022-12-02T14:23:54.073202",
     "exception": false,
     "start_time": "2022-12-02T14:23:54.041872",
     "status": "completed"
    },
    "tags": []
   },
   "outputs": [],
   "source": [
    "Stock_df=Stock_df.values"
   ]
  },
  {
   "cell_type": "code",
   "execution_count": 24,
   "id": "d00ddc19",
   "metadata": {
    "execution": {
     "iopub.execute_input": "2022-12-02T14:23:54.112138Z",
     "iopub.status.busy": "2022-12-02T14:23:54.111535Z",
     "iopub.status.idle": "2022-12-02T14:23:54.119802Z",
     "shell.execute_reply": "2022-12-02T14:23:54.118538Z"
    },
    "papermill": {
     "duration": 0.031281,
     "end_time": "2022-12-02T14:23:54.122968",
     "exception": false,
     "start_time": "2022-12-02T14:23:54.091687",
     "status": "completed"
    },
    "tags": []
   },
   "outputs": [
    {
     "data": {
      "text/plain": [
       "array([[0.6201],\n",
       "       [0.6201],\n",
       "       [0.6122],\n",
       "       [0.5957],\n",
       "       [0.5957]])"
      ]
     },
     "execution_count": 24,
     "metadata": {},
     "output_type": "execute_result"
    }
   ],
   "source": [
    "Stock_df[0:5]"
   ]
  },
  {
   "cell_type": "code",
   "execution_count": null,
   "id": "066465fc",
   "metadata": {},
   "outputs": [],
   "source": []
  },
  {
   "cell_type": "code",
   "execution_count": 25,
   "id": "94c22ce4",
   "metadata": {
    "execution": {
     "iopub.execute_input": "2022-12-02T14:23:54.201411Z",
     "iopub.status.busy": "2022-12-02T14:23:54.200992Z",
     "iopub.status.idle": "2022-12-02T14:23:54.206590Z",
     "shell.execute_reply": "2022-12-02T14:23:54.205570Z"
    },
    "papermill": {
     "duration": 0.028021,
     "end_time": "2022-12-02T14:23:54.209230",
     "exception": false,
     "start_time": "2022-12-02T14:23:54.181209",
     "status": "completed"
    },
    "tags": []
   },
   "outputs": [],
   "source": [
    "Stock_df=Stock_df.astype(\"float32\")"
   ]
  },
  {
   "cell_type": "markdown",
   "id": "797a5198",
   "metadata": {},
   "source": [
    "### ->Training and testing the model"
   ]
  },
  {
   "cell_type": "code",
   "execution_count": 26,
   "id": "2bfd777e",
   "metadata": {},
   "outputs": [],
   "source": [
    "pos=int(round(len(Stock_df)*(1-0.20)))\n",
    "train=Stock_df[:pos]\n",
    "test=Stock_df[pos:]"
   ]
  },
  {
   "cell_type": "code",
   "execution_count": 27,
   "id": "5cf0bd48",
   "metadata": {},
   "outputs": [
    {
     "name": "stdout",
     "output_type": "stream",
     "text": [
      "11246 (11246, 1) (2812, 1)\n"
     ]
    }
   ],
   "source": [
    "print(pos, train.shape, test.shape)"
   ]
  },
  {
   "cell_type": "code",
   "execution_count": 28,
   "id": "2360bc92",
   "metadata": {
    "execution": {
     "iopub.execute_input": "2022-12-02T14:23:54.382337Z",
     "iopub.status.busy": "2022-12-02T14:23:54.381910Z",
     "iopub.status.idle": "2022-12-02T14:23:54.388158Z",
     "shell.execute_reply": "2022-12-02T14:23:54.386960Z"
    },
    "papermill": {
     "duration": 0.029177,
     "end_time": "2022-12-02T14:23:54.390619",
     "exception": false,
     "start_time": "2022-12-02T14:23:54.361442",
     "status": "completed"
    },
    "tags": []
   },
   "outputs": [
    {
     "name": "stdout",
     "output_type": "stream",
     "text": [
      "(11246, 1) (2812, 1)\n"
     ]
    }
   ],
   "source": [
    "print(train.shape,test.shape)"
   ]
  },
  {
   "cell_type": "code",
   "execution_count": 29,
   "id": "7abc0f0a",
   "metadata": {
    "execution": {
     "iopub.execute_input": "2022-12-02T14:23:54.430378Z",
     "iopub.status.busy": "2022-12-02T14:23:54.429931Z",
     "iopub.status.idle": "2022-12-02T14:23:54.435306Z",
     "shell.execute_reply": "2022-12-02T14:23:54.433856Z"
    },
    "papermill": {
     "duration": 0.02814,
     "end_time": "2022-12-02T14:23:54.437841",
     "exception": false,
     "start_time": "2022-12-02T14:23:54.409701",
     "status": "completed"
    },
    "tags": []
   },
   "outputs": [],
   "source": [
    "scaler_train=MinMaxScaler(feature_range=(0,1))"
   ]
  },
  {
   "cell_type": "code",
   "execution_count": 30,
   "id": "5c6c14e7",
   "metadata": {
    "execution": {
     "iopub.execute_input": "2022-12-02T14:23:54.479257Z",
     "iopub.status.busy": "2022-12-02T14:23:54.478831Z",
     "iopub.status.idle": "2022-12-02T14:23:54.485303Z",
     "shell.execute_reply": "2022-12-02T14:23:54.484207Z"
    },
    "papermill": {
     "duration": 0.030349,
     "end_time": "2022-12-02T14:23:54.487859",
     "exception": false,
     "start_time": "2022-12-02T14:23:54.457510",
     "status": "completed"
    },
    "tags": []
   },
   "outputs": [],
   "source": [
    "train=scaler_train.fit_transform(train)"
   ]
  },
  {
   "cell_type": "code",
   "execution_count": 31,
   "id": "e6667334",
   "metadata": {
    "execution": {
     "iopub.execute_input": "2022-12-02T14:23:54.529401Z",
     "iopub.status.busy": "2022-12-02T14:23:54.528919Z",
     "iopub.status.idle": "2022-12-02T14:23:54.534360Z",
     "shell.execute_reply": "2022-12-02T14:23:54.532972Z"
    },
    "papermill": {
     "duration": 0.029106,
     "end_time": "2022-12-02T14:23:54.536674",
     "exception": false,
     "start_time": "2022-12-02T14:23:54.507568",
     "status": "completed"
    },
    "tags": []
   },
   "outputs": [],
   "source": [
    "scaler_test=MinMaxScaler(feature_range=(0,1))"
   ]
  },
  {
   "cell_type": "code",
   "execution_count": 32,
   "id": "a8cb631f",
   "metadata": {
    "execution": {
     "iopub.execute_input": "2022-12-02T14:23:54.577869Z",
     "iopub.status.busy": "2022-12-02T14:23:54.577418Z",
     "iopub.status.idle": "2022-12-02T14:23:54.584241Z",
     "shell.execute_reply": "2022-12-02T14:23:54.582896Z"
    },
    "papermill": {
     "duration": 0.031109,
     "end_time": "2022-12-02T14:23:54.586983",
     "exception": false,
     "start_time": "2022-12-02T14:23:54.555874",
     "status": "completed"
    },
    "tags": []
   },
   "outputs": [],
   "source": [
    "test=scaler_test.fit_transform(test)"
   ]
  },
  {
   "cell_type": "code",
   "execution_count": 33,
   "id": "c1b0281a",
   "metadata": {
    "execution": {
     "iopub.execute_input": "2022-12-02T14:23:54.627452Z",
     "iopub.status.busy": "2022-12-02T14:23:54.627055Z",
     "iopub.status.idle": "2022-12-02T14:23:54.634605Z",
     "shell.execute_reply": "2022-12-02T14:23:54.633142Z"
    },
    "papermill": {
     "duration": 0.030858,
     "end_time": "2022-12-02T14:23:54.637200",
     "exception": false,
     "start_time": "2022-12-02T14:23:54.606342",
     "status": "completed"
    },
    "tags": []
   },
   "outputs": [
    {
     "data": {
      "text/plain": [
       "array([[0.00338425],\n",
       "       [0.00338425],\n",
       "       [0.00321827],\n",
       "       [0.00287161],\n",
       "       [0.00287161]], dtype=float32)"
      ]
     },
     "execution_count": 33,
     "metadata": {},
     "output_type": "execute_result"
    }
   ],
   "source": [
    "train[0:5]"
   ]
  },
  {
   "cell_type": "code",
   "execution_count": 34,
   "id": "a076a083",
   "metadata": {
    "execution": {
     "iopub.execute_input": "2022-12-02T14:23:54.676727Z",
     "iopub.status.busy": "2022-12-02T14:23:54.676319Z",
     "iopub.status.idle": "2022-12-02T14:23:54.684821Z",
     "shell.execute_reply": "2022-12-02T14:23:54.683568Z"
    },
    "papermill": {
     "duration": 0.031859,
     "end_time": "2022-12-02T14:23:54.687503",
     "exception": false,
     "start_time": "2022-12-02T14:23:54.655644",
     "status": "completed"
    },
    "tags": []
   },
   "outputs": [
    {
     "data": {
      "text/plain": [
       "array([[0.7946966],\n",
       "       [0.7930853],\n",
       "       [0.7950119],\n",
       "       [0.7955373],\n",
       "       [0.7950119]], dtype=float32)"
      ]
     },
     "execution_count": 34,
     "metadata": {},
     "output_type": "execute_result"
    }
   ],
   "source": [
    "test[0:5]"
   ]
  },
  {
   "cell_type": "code",
   "execution_count": 35,
   "id": "afc80fd2",
   "metadata": {
    "execution": {
     "iopub.execute_input": "2022-12-02T14:23:54.730839Z",
     "iopub.status.busy": "2022-12-02T14:23:54.729480Z",
     "iopub.status.idle": "2022-12-02T14:23:54.735924Z",
     "shell.execute_reply": "2022-12-02T14:23:54.735082Z"
    },
    "papermill": {
     "duration": 0.030623,
     "end_time": "2022-12-02T14:23:54.738321",
     "exception": false,
     "start_time": "2022-12-02T14:23:54.707698",
     "status": "completed"
    },
    "tags": []
   },
   "outputs": [],
   "source": [
    "def create_features(data,lookback):\n",
    "    X,Y=[],[]\n",
    "    for i in range(lookback,len(data)):\n",
    "        X.append(data[i-lookback:i,0])\n",
    "        Y.append(data[i,0])\n",
    "    return np.array(X),np.array(Y)"
   ]
  },
  {
   "cell_type": "code",
   "execution_count": 36,
   "id": "0c8c130d",
   "metadata": {
    "execution": {
     "iopub.execute_input": "2022-12-02T14:23:54.780363Z",
     "iopub.status.busy": "2022-12-02T14:23:54.779243Z",
     "iopub.status.idle": "2022-12-02T14:23:54.784690Z",
     "shell.execute_reply": "2022-12-02T14:23:54.783745Z"
    },
    "papermill": {
     "duration": 0.028524,
     "end_time": "2022-12-02T14:23:54.786981",
     "exception": false,
     "start_time": "2022-12-02T14:23:54.758457",
     "status": "completed"
    },
    "tags": []
   },
   "outputs": [],
   "source": [
    "lookback=30"
   ]
  },
  {
   "cell_type": "code",
   "execution_count": 37,
   "id": "105da285",
   "metadata": {
    "execution": {
     "iopub.execute_input": "2022-12-02T14:23:54.863992Z",
     "iopub.status.busy": "2022-12-02T14:23:54.862815Z",
     "iopub.status.idle": "2022-12-02T14:23:54.870659Z",
     "shell.execute_reply": "2022-12-02T14:23:54.869396Z"
    },
    "papermill": {
     "duration": 0.030043,
     "end_time": "2022-12-02T14:23:54.873154",
     "exception": false,
     "start_time": "2022-12-02T14:23:54.843111",
     "status": "completed"
    },
    "tags": []
   },
   "outputs": [],
   "source": [
    "X_train,y_train=create_features(train,lookback)"
   ]
  },
  {
   "cell_type": "code",
   "execution_count": 38,
   "id": "c989344b",
   "metadata": {
    "execution": {
     "iopub.execute_input": "2022-12-02T14:23:54.951486Z",
     "iopub.status.busy": "2022-12-02T14:23:54.951017Z",
     "iopub.status.idle": "2022-12-02T14:23:54.957337Z",
     "shell.execute_reply": "2022-12-02T14:23:54.956252Z"
    },
    "papermill": {
     "duration": 0.029091,
     "end_time": "2022-12-02T14:23:54.959611",
     "exception": false,
     "start_time": "2022-12-02T14:23:54.930520",
     "status": "completed"
    },
    "tags": []
   },
   "outputs": [],
   "source": [
    "X_test,y_test=create_features(test,lookback)"
   ]
  },
  {
   "cell_type": "code",
   "execution_count": 39,
   "id": "0d9e7f3c",
   "metadata": {
    "execution": {
     "iopub.execute_input": "2022-12-02T14:23:54.998611Z",
     "iopub.status.busy": "2022-12-02T14:23:54.998202Z",
     "iopub.status.idle": "2022-12-02T14:23:55.004243Z",
     "shell.execute_reply": "2022-12-02T14:23:55.003020Z"
    },
    "papermill": {
     "duration": 0.028757,
     "end_time": "2022-12-02T14:23:55.007110",
     "exception": false,
     "start_time": "2022-12-02T14:23:54.978353",
     "status": "completed"
    },
    "tags": []
   },
   "outputs": [
    {
     "name": "stdout",
     "output_type": "stream",
     "text": [
      "(11216, 30) (11216,) (2782, 30) (2782,)\n"
     ]
    }
   ],
   "source": [
    "print(X_train.shape,y_train.shape,X_test.shape,y_test.shape)"
   ]
  },
  {
   "cell_type": "code",
   "execution_count": 40,
   "id": "facb7f2a",
   "metadata": {
    "execution": {
     "iopub.execute_input": "2022-12-02T14:23:55.046227Z",
     "iopub.status.busy": "2022-12-02T14:23:55.045767Z",
     "iopub.status.idle": "2022-12-02T14:23:55.055588Z",
     "shell.execute_reply": "2022-12-02T14:23:55.054423Z"
    },
    "papermill": {
     "duration": 0.0323,
     "end_time": "2022-12-02T14:23:55.057833",
     "exception": false,
     "start_time": "2022-12-02T14:23:55.025533",
     "status": "completed"
    },
    "tags": []
   },
   "outputs": [
    {
     "data": {
      "text/plain": [
       "array([[0.00338425, 0.00338425, 0.00321827, 0.00287161, 0.00287161,\n",
       "        0.00287161, 0.00287161, 0.00287161, 0.00270563, 0.00287161,\n",
       "        0.00303969, 0.00270563, 0.00287161, 0.00303969, 0.00303969,\n",
       "        0.00270563, 0.00303969, 0.00287161, 0.00287161, 0.00287161,\n",
       "        0.00303969, 0.00354392, 0.00338425, 0.00338425, 0.00321827,\n",
       "        0.00338425, 0.00354392, 0.00354392, 0.00354392, 0.00354392],\n",
       "       [0.00338425, 0.00321827, 0.00287161, 0.00287161, 0.00287161,\n",
       "        0.00287161, 0.00287161, 0.00270563, 0.00287161, 0.00303969,\n",
       "        0.00270563, 0.00287161, 0.00303969, 0.00303969, 0.00270563,\n",
       "        0.00303969, 0.00287161, 0.00287161, 0.00287161, 0.00303969,\n",
       "        0.00354392, 0.00338425, 0.00338425, 0.00321827, 0.00338425,\n",
       "        0.00354392, 0.00354392, 0.00354392, 0.00354392, 0.0037225 ],\n",
       "       [0.00321827, 0.00287161, 0.00287161, 0.00287161, 0.00287161,\n",
       "        0.00287161, 0.00270563, 0.00287161, 0.00303969, 0.00270563,\n",
       "        0.00287161, 0.00303969, 0.00303969, 0.00270563, 0.00303969,\n",
       "        0.00287161, 0.00287161, 0.00287161, 0.00303969, 0.00354392,\n",
       "        0.00338425, 0.00338425, 0.00321827, 0.00338425, 0.00354392,\n",
       "        0.00354392, 0.00354392, 0.00354392, 0.0037225 , 0.0037225 ],\n",
       "       [0.00287161, 0.00287161, 0.00287161, 0.00287161, 0.00287161,\n",
       "        0.00270563, 0.00287161, 0.00303969, 0.00270563, 0.00287161,\n",
       "        0.00303969, 0.00303969, 0.00270563, 0.00303969, 0.00287161,\n",
       "        0.00287161, 0.00287161, 0.00303969, 0.00354392, 0.00338425,\n",
       "        0.00338425, 0.00321827, 0.00338425, 0.00354392, 0.00354392,\n",
       "        0.00354392, 0.00354392, 0.0037225 , 0.0037225 , 0.00389058],\n",
       "       [0.00287161, 0.00287161, 0.00287161, 0.00287161, 0.00270563,\n",
       "        0.00287161, 0.00303969, 0.00270563, 0.00287161, 0.00303969,\n",
       "        0.00303969, 0.00270563, 0.00303969, 0.00287161, 0.00287161,\n",
       "        0.00287161, 0.00303969, 0.00354392, 0.00338425, 0.00338425,\n",
       "        0.00321827, 0.00338425, 0.00354392, 0.00354392, 0.00354392,\n",
       "        0.00354392, 0.0037225 , 0.0037225 , 0.00389058, 0.00389058]],\n",
       "      dtype=float32)"
      ]
     },
     "execution_count": 40,
     "metadata": {},
     "output_type": "execute_result"
    }
   ],
   "source": [
    "X_train[0:5]"
   ]
  },
  {
   "cell_type": "code",
   "execution_count": 41,
   "id": "ad7771e8",
   "metadata": {
    "execution": {
     "iopub.execute_input": "2022-12-02T14:23:55.135491Z",
     "iopub.status.busy": "2022-12-02T14:23:55.135067Z",
     "iopub.status.idle": "2022-12-02T14:23:55.142919Z",
     "shell.execute_reply": "2022-12-02T14:23:55.141793Z"
    },
    "papermill": {
     "duration": 0.030572,
     "end_time": "2022-12-02T14:23:55.145182",
     "exception": false,
     "start_time": "2022-12-02T14:23:55.114610",
     "status": "completed"
    },
    "scrolled": true,
    "tags": []
   },
   "outputs": [
    {
     "data": {
      "text/plain": [
       "array([0.8164494, 0.815889 , 0.8051702, 0.80489  , 0.8023329],\n",
       "      dtype=float32)"
      ]
     },
     "execution_count": 41,
     "metadata": {},
     "output_type": "execute_result"
    }
   ],
   "source": [
    "y_test[0:5]"
   ]
  },
  {
   "cell_type": "code",
   "execution_count": 42,
   "id": "a9d6b0de",
   "metadata": {
    "execution": {
     "iopub.execute_input": "2022-12-02T14:23:55.221770Z",
     "iopub.status.busy": "2022-12-02T14:23:55.221360Z",
     "iopub.status.idle": "2022-12-02T14:23:55.226576Z",
     "shell.execute_reply": "2022-12-02T14:23:55.225667Z"
    },
    "papermill": {
     "duration": 0.028626,
     "end_time": "2022-12-02T14:23:55.229289",
     "exception": false,
     "start_time": "2022-12-02T14:23:55.200663",
     "status": "completed"
    },
    "tags": []
   },
   "outputs": [],
   "source": [
    "X_train=np.reshape(X_train,(X_train.shape[0],1,X_train.shape[1]))"
   ]
  },
  {
   "cell_type": "code",
   "execution_count": 43,
   "id": "b77d52e2",
   "metadata": {
    "execution": {
     "iopub.execute_input": "2022-12-02T14:23:55.268743Z",
     "iopub.status.busy": "2022-12-02T14:23:55.267788Z",
     "iopub.status.idle": "2022-12-02T14:23:55.274119Z",
     "shell.execute_reply": "2022-12-02T14:23:55.272912Z"
    },
    "papermill": {
     "duration": 0.029064,
     "end_time": "2022-12-02T14:23:55.276960",
     "exception": false,
     "start_time": "2022-12-02T14:23:55.247896",
     "status": "completed"
    },
    "tags": []
   },
   "outputs": [],
   "source": [
    "X_test=np.reshape(X_test,(X_test.shape[0],1,X_test.shape[1]))"
   ]
  },
  {
   "cell_type": "code",
   "execution_count": 44,
   "id": "e33fae8c",
   "metadata": {
    "execution": {
     "iopub.execute_input": "2022-12-02T14:23:55.317071Z",
     "iopub.status.busy": "2022-12-02T14:23:55.315867Z",
     "iopub.status.idle": "2022-12-02T14:23:55.321418Z",
     "shell.execute_reply": "2022-12-02T14:23:55.320202Z"
    },
    "papermill": {
     "duration": 0.02843,
     "end_time": "2022-12-02T14:23:55.323802",
     "exception": false,
     "start_time": "2022-12-02T14:23:55.295372",
     "status": "completed"
    },
    "tags": []
   },
   "outputs": [],
   "source": [
    "y_train=y_train.reshape(-1,1)"
   ]
  },
  {
   "cell_type": "code",
   "execution_count": 45,
   "id": "3cb744a1",
   "metadata": {
    "execution": {
     "iopub.execute_input": "2022-12-02T14:23:55.363312Z",
     "iopub.status.busy": "2022-12-02T14:23:55.362853Z",
     "iopub.status.idle": "2022-12-02T14:23:55.368164Z",
     "shell.execute_reply": "2022-12-02T14:23:55.366811Z"
    },
    "papermill": {
     "duration": 0.028012,
     "end_time": "2022-12-02T14:23:55.370530",
     "exception": false,
     "start_time": "2022-12-02T14:23:55.342518",
     "status": "completed"
    },
    "tags": []
   },
   "outputs": [],
   "source": [
    "y_test=y_test.reshape(-1,1)"
   ]
  },
  {
   "cell_type": "code",
   "execution_count": 46,
   "id": "a5b11f55",
   "metadata": {
    "execution": {
     "iopub.execute_input": "2022-12-02T14:23:55.409742Z",
     "iopub.status.busy": "2022-12-02T14:23:55.408838Z",
     "iopub.status.idle": "2022-12-02T14:23:55.415034Z",
     "shell.execute_reply": "2022-12-02T14:23:55.413948Z"
    },
    "papermill": {
     "duration": 0.028813,
     "end_time": "2022-12-02T14:23:55.417906",
     "exception": false,
     "start_time": "2022-12-02T14:23:55.389093",
     "status": "completed"
    },
    "tags": []
   },
   "outputs": [
    {
     "name": "stdout",
     "output_type": "stream",
     "text": [
      "(11216, 1, 30) (11216, 1) (2782, 1, 30) (2782, 1)\n"
     ]
    }
   ],
   "source": [
    "print(X_train.shape,y_train.shape,X_test.shape,y_test.shape)"
   ]
  },
  {
   "cell_type": "code",
   "execution_count": 47,
   "id": "bb68104a",
   "metadata": {},
   "outputs": [],
   "source": [
    "def ANN(m):\n",
    "    from keras.models import Sequential\n",
    "    from keras.layers import Dense\n",
    "   \n",
    "    model.add(Dense(11,activation='relu',input_dim=30))\n",
    "    model.add(Dense(1,activation='sigmoid'))\n",
    "\n",
    "    model.compile(loss='binary_crossentropy',optimizer='adam',metrics=['accuracy'])\n",
    "    model.fit(X_train,y_train,epochs=3)"
   ]
  },
  {
   "cell_type": "code",
   "execution_count": 48,
   "id": "77e35449",
   "metadata": {
    "execution": {
     "iopub.execute_input": "2022-12-02T14:23:55.498310Z",
     "iopub.status.busy": "2022-12-02T14:23:55.497877Z",
     "iopub.status.idle": "2022-12-02T14:23:55.768294Z",
     "shell.execute_reply": "2022-12-02T14:23:55.767173Z"
    },
    "papermill": {
     "duration": 0.296921,
     "end_time": "2022-12-02T14:23:55.770654",
     "exception": false,
     "start_time": "2022-12-02T14:23:55.473733",
     "status": "completed"
    },
    "scrolled": true,
    "tags": []
   },
   "outputs": [],
   "source": [
    "from lib.utils import *\n",
    "ac=[]"
   ]
  },
  {
   "cell_type": "code",
   "execution_count": 49,
   "id": "39d32647",
   "metadata": {},
   "outputs": [],
   "source": [
    "model=ANN(X_train)"
   ]
  },
  {
   "cell_type": "code",
   "execution_count": 50,
   "id": "0ea44696",
   "metadata": {
    "execution": {
     "iopub.execute_input": "2022-12-02T14:23:55.859829Z",
     "iopub.status.busy": "2022-12-02T14:23:55.858578Z",
     "iopub.status.idle": "2022-12-02T14:23:55.873176Z",
     "shell.execute_reply": "2022-12-02T14:23:55.871762Z"
    },
    "papermill": {
     "duration": 0.037506,
     "end_time": "2022-12-02T14:23:55.876005",
     "exception": false,
     "start_time": "2022-12-02T14:23:55.838499",
     "status": "completed"
    },
    "tags": []
   },
   "outputs": [],
   "source": [
    "model.compile(loss=\"mean_squared_error\",optimizer=\"adam\")\n"
   ]
  },
  {
   "cell_type": "code",
   "execution_count": 51,
   "id": "f093f79d",
   "metadata": {
    "execution": {
     "iopub.execute_input": "2022-12-02T14:23:55.915791Z",
     "iopub.status.busy": "2022-12-02T14:23:55.914971Z",
     "iopub.status.idle": "2022-12-02T14:23:55.921968Z",
     "shell.execute_reply": "2022-12-02T14:23:55.920553Z"
    },
    "papermill": {
     "duration": 0.029343,
     "end_time": "2022-12-02T14:23:55.924200",
     "exception": false,
     "start_time": "2022-12-02T14:23:55.894857",
     "status": "completed"
    },
    "tags": []
   },
   "outputs": [],
   "source": [
    "callbacks=[EarlyStopping(monitor=\"val_loss\",patience=3,verbose=1,mode=\"min\"),\n",
    "          ModelCheckpoint(filepath=\"mymodel.h5\",monitor=\"val_loss\",mode=\"min\",\n",
    "                         save_best_only=True,save_weights_only=False,verbose=1)]"
   ]
  },
  {
   "cell_type": "code",
   "execution_count": 52,
   "id": "db61b728",
   "metadata": {
    "execution": {
     "iopub.execute_input": "2022-12-02T14:23:55.964487Z",
     "iopub.status.busy": "2022-12-02T14:23:55.963549Z",
     "iopub.status.idle": "2022-12-02T14:24:04.540017Z",
     "shell.execute_reply": "2022-12-02T14:24:04.538462Z"
    },
    "papermill": {
     "duration": 8.599817,
     "end_time": "2022-12-02T14:24:04.542967",
     "exception": false,
     "start_time": "2022-12-02T14:23:55.943150",
     "status": "completed"
    },
    "tags": []
   },
   "outputs": [
    {
     "name": "stdout",
     "output_type": "stream",
     "text": [
      "Epoch 1/200\n",
      "364/374 [============================>.] - ETA: 0s - loss: 0.0011   \n",
      "Epoch 1: val_loss improved from inf to 0.00327, saving model to mymodel.h5\n",
      "374/374 [==============================] - 4s 5ms/step - loss: 0.0011 - val_loss: 0.0033\n",
      "Epoch 2/200\n",
      "367/374 [============================>.] - ETA: 0s - loss: 0.0015 \n",
      "Epoch 2: val_loss improved from 0.00327 to 0.00186, saving model to mymodel.h5\n",
      "374/374 [==============================] - 2s 4ms/step - loss: 0.0015 - val_loss: 0.0019\n",
      "Epoch 3/200\n",
      "361/374 [===========================>..] - ETA: 0s - loss: 0.0011    \n",
      "Epoch 3: val_loss did not improve from 0.00186\n",
      "374/374 [==============================] - 1s 4ms/step - loss: 0.0011 - val_loss: 0.0024\n",
      "Epoch 4/200\n",
      "374/374 [==============================] - ETA: 0s - loss: 0.0011    \n",
      "Epoch 4: val_loss did not improve from 0.00186\n",
      "374/374 [==============================] - 1s 4ms/step - loss: 0.0011 - val_loss: 0.0033\n",
      "Epoch 5/200\n",
      "374/374 [==============================] - ETA: 0s - loss: 0.0011    \n",
      "Epoch 5: val_loss did not improve from 0.00186\n",
      "374/374 [==============================] - 1s 4ms/step - loss: 0.0011 - val_loss: 0.0029\n",
      "Epoch 5: early stopping\n"
     ]
    }
   ],
   "source": [
    "history = model.fit(x=X_train,\n",
    "                    y=y_train,\n",
    "                    epochs=200,\n",
    "                    batch_size=30,\n",
    "                    validation_data=(X_test,y_test),\n",
    "                    callbacks=callbacks,\n",
    "                    shuffle=False)\n",
    "ac.append(accuracy_score(model,y_test,sample_weight=0.2)*100)"
   ]
  },
  {
   "cell_type": "code",
   "execution_count": 53,
   "id": "8615e5ed",
   "metadata": {
    "execution": {
     "iopub.execute_input": "2022-12-02T14:24:04.997631Z",
     "iopub.status.busy": "2022-12-02T14:24:04.996703Z",
     "iopub.status.idle": "2022-12-02T14:24:05.091914Z",
     "shell.execute_reply": "2022-12-02T14:24:05.090331Z"
    },
    "papermill": {
     "duration": 0.126849,
     "end_time": "2022-12-02T14:24:05.095195",
     "exception": false,
     "start_time": "2022-12-02T14:24:04.968346",
     "status": "completed"
    },
    "tags": []
   },
   "outputs": [
    {
     "name": "stdout",
     "output_type": "stream",
     "text": [
      "93/93 [==============================] - 0s 2ms/step - loss: 0.0029\n"
     ]
    }
   ],
   "source": [
    "loss=model.evaluate(X_test,y_test,batch_size=30)"
   ]
  },
  {
   "cell_type": "code",
   "execution_count": 54,
   "id": "35e98732",
   "metadata": {
    "execution": {
     "iopub.execute_input": "2022-12-02T14:24:05.221236Z",
     "iopub.status.busy": "2022-12-02T14:24:05.220520Z",
     "iopub.status.idle": "2022-12-02T14:24:05.648161Z",
     "shell.execute_reply": "2022-12-02T14:24:05.646874Z"
    },
    "papermill": {
     "duration": 0.461503,
     "end_time": "2022-12-02T14:24:05.651128",
     "exception": false,
     "start_time": "2022-12-02T14:24:05.189625",
     "status": "completed"
    },
    "tags": []
   },
   "outputs": [
    {
     "name": "stdout",
     "output_type": "stream",
     "text": [
      "351/351 [==============================] - 1s 2ms/step\n",
      "87/87 [==============================] - 0s 3ms/step\n"
     ]
    }
   ],
   "source": [
    "train_predict=model.predict(X_train)\n",
    "test_predict=model.predict(X_test)"
   ]
  },
  {
   "cell_type": "code",
   "execution_count": 55,
   "id": "9ba4ab52",
   "metadata": {
    "execution": {
     "iopub.execute_input": "2022-12-02T14:24:05.707460Z",
     "iopub.status.busy": "2022-12-02T14:24:05.707035Z",
     "iopub.status.idle": "2022-12-02T14:24:05.712059Z",
     "shell.execute_reply": "2022-12-02T14:24:05.711009Z"
    },
    "papermill": {
     "duration": 0.035959,
     "end_time": "2022-12-02T14:24:05.714306",
     "exception": false,
     "start_time": "2022-12-02T14:24:05.678347",
     "status": "completed"
    },
    "tags": []
   },
   "outputs": [],
   "source": [
    "train_predict=scaler_train.inverse_transform(train_predict)\n",
    "test_predict=scaler_test.inverse_transform(test_predict)"
   ]
  },
  {
   "cell_type": "code",
   "execution_count": 56,
   "id": "08c01627",
   "metadata": {
    "execution": {
     "iopub.execute_input": "2022-12-02T14:24:05.771046Z",
     "iopub.status.busy": "2022-12-02T14:24:05.770401Z",
     "iopub.status.idle": "2022-12-02T14:24:05.775018Z",
     "shell.execute_reply": "2022-12-02T14:24:05.774214Z"
    },
    "papermill": {
     "duration": 0.035507,
     "end_time": "2022-12-02T14:24:05.777263",
     "exception": false,
     "start_time": "2022-12-02T14:24:05.741756",
     "status": "completed"
    },
    "tags": []
   },
   "outputs": [],
   "source": [
    "y_train=scaler_train.inverse_transform(y_train)\n",
    "y_test=scaler_test.inverse_transform(y_test)"
   ]
  },
  {
   "cell_type": "code",
   "execution_count": 57,
   "id": "2146ffc6",
   "metadata": {
    "execution": {
     "iopub.execute_input": "2022-12-02T14:24:05.888710Z",
     "iopub.status.busy": "2022-12-02T14:24:05.888095Z",
     "iopub.status.idle": "2022-12-02T14:24:05.892911Z",
     "shell.execute_reply": "2022-12-02T14:24:05.892025Z"
    },
    "papermill": {
     "duration": 0.036297,
     "end_time": "2022-12-02T14:24:05.895419",
     "exception": false,
     "start_time": "2022-12-02T14:24:05.859122",
     "status": "completed"
    },
    "tags": []
   },
   "outputs": [],
   "source": [
    "train_rmse=np.sqrt(mean_squared_error(y_train,train_predict))"
   ]
  },
  {
   "cell_type": "code",
   "execution_count": 58,
   "id": "159b1a09",
   "metadata": {
    "execution": {
     "iopub.execute_input": "2022-12-02T14:24:05.952208Z",
     "iopub.status.busy": "2022-12-02T14:24:05.951752Z",
     "iopub.status.idle": "2022-12-02T14:24:05.957716Z",
     "shell.execute_reply": "2022-12-02T14:24:05.956567Z"
    },
    "papermill": {
     "duration": 0.03724,
     "end_time": "2022-12-02T14:24:05.960305",
     "exception": false,
     "start_time": "2022-12-02T14:24:05.923065",
     "status": "completed"
    },
    "tags": []
   },
   "outputs": [],
   "source": [
    "test_rmse=np.sqrt(mean_squared_error(y_test,test_predict,))"
   ]
  },
  {
   "cell_type": "code",
   "execution_count": 59,
   "id": "59ba211c",
   "metadata": {
    "execution": {
     "iopub.execute_input": "2022-12-02T14:24:06.140144Z",
     "iopub.status.busy": "2022-12-02T14:24:06.139648Z",
     "iopub.status.idle": "2022-12-02T14:24:06.145868Z",
     "shell.execute_reply": "2022-12-02T14:24:06.144635Z"
    },
    "papermill": {
     "duration": 0.038062,
     "end_time": "2022-12-02T14:24:06.148273",
     "exception": false,
     "start_time": "2022-12-02T14:24:06.110211",
     "status": "completed"
    },
    "tags": []
   },
   "outputs": [],
   "source": [
    "train_prediction_data=result_df[lookback:pos]"
   ]
  },
  {
   "cell_type": "code",
   "execution_count": 60,
   "id": "9efe10ac",
   "metadata": {
    "execution": {
     "iopub.execute_input": "2022-12-02T14:24:06.204829Z",
     "iopub.status.busy": "2022-12-02T14:24:06.204357Z",
     "iopub.status.idle": "2022-12-02T14:24:06.217592Z",
     "shell.execute_reply": "2022-12-02T14:24:06.216118Z"
    },
    "papermill": {
     "duration": 0.044341,
     "end_time": "2022-12-02T14:24:06.220152",
     "exception": false,
     "start_time": "2022-12-02T14:24:06.175811",
     "status": "completed"
    },
    "tags": []
   },
   "outputs": [],
   "source": [
    "train_prediction_data[\"Predicted\"]=train_predict"
   ]
  },
  {
   "cell_type": "code",
   "execution_count": 61,
   "id": "456646f5",
   "metadata": {
    "execution": {
     "iopub.execute_input": "2022-12-02T14:24:06.347992Z",
     "iopub.status.busy": "2022-12-02T14:24:06.347518Z",
     "iopub.status.idle": "2022-12-02T14:24:06.353173Z",
     "shell.execute_reply": "2022-12-02T14:24:06.351868Z"
    },
    "papermill": {
     "duration": 0.03742,
     "end_time": "2022-12-02T14:24:06.355892",
     "exception": false,
     "start_time": "2022-12-02T14:24:06.318472",
     "status": "completed"
    },
    "tags": []
   },
   "outputs": [],
   "source": [
    "test_prediction_data=result_df[pos+lookback:]"
   ]
  },
  {
   "cell_type": "code",
   "execution_count": 62,
   "id": "a456d790",
   "metadata": {
    "execution": {
     "iopub.execute_input": "2022-12-02T14:24:06.413707Z",
     "iopub.status.busy": "2022-12-02T14:24:06.413243Z",
     "iopub.status.idle": "2022-12-02T14:24:06.420996Z",
     "shell.execute_reply": "2022-12-02T14:24:06.419613Z"
    },
    "papermill": {
     "duration": 0.03945,
     "end_time": "2022-12-02T14:24:06.423538",
     "exception": false,
     "start_time": "2022-12-02T14:24:06.384088",
     "status": "completed"
    },
    "tags": []
   },
   "outputs": [],
   "source": [
    "test_prediction_data[\"Predicted\"]=test_predict"
   ]
  },
  {
   "cell_type": "code",
   "execution_count": 63,
   "id": "f5eb0b6b",
   "metadata": {
    "execution": {
     "iopub.execute_input": "2022-12-02T14:24:06.482555Z",
     "iopub.status.busy": "2022-12-02T14:24:06.482102Z",
     "iopub.status.idle": "2022-12-02T14:24:06.494114Z",
     "shell.execute_reply": "2022-12-02T14:24:06.492920Z"
    },
    "papermill": {
     "duration": 0.044216,
     "end_time": "2022-12-02T14:24:06.496428",
     "exception": false,
     "start_time": "2022-12-02T14:24:06.452212",
     "status": "completed"
    },
    "scrolled": true,
    "tags": []
   },
   "outputs": [
    {
     "name": "stdout",
     "output_type": "stream",
     "text": [
      "Daily predcition\n"
     ]
    },
    {
     "data": {
      "text/html": [
       "<div>\n",
       "<style scoped>\n",
       "    .dataframe tbody tr th:only-of-type {\n",
       "        vertical-align: middle;\n",
       "    }\n",
       "\n",
       "    .dataframe tbody tr th {\n",
       "        vertical-align: top;\n",
       "    }\n",
       "\n",
       "    .dataframe thead th {\n",
       "        text-align: right;\n",
       "    }\n",
       "</style>\n",
       "<table border=\"1\" class=\"dataframe\">\n",
       "  <thead>\n",
       "    <tr style=\"text-align: right;\">\n",
       "      <th></th>\n",
       "      <th>Close</th>\n",
       "      <th>Predicted</th>\n",
       "    </tr>\n",
       "    <tr>\n",
       "      <th>Date</th>\n",
       "      <th></th>\n",
       "      <th></th>\n",
       "    </tr>\n",
       "  </thead>\n",
       "  <tbody>\n",
       "    <tr>\n",
       "      <th>2006-10-25</th>\n",
       "      <td>28.670</td>\n",
       "      <td>26.877455</td>\n",
       "    </tr>\n",
       "    <tr>\n",
       "      <th>2006-10-26</th>\n",
       "      <td>28.654</td>\n",
       "      <td>26.875175</td>\n",
       "    </tr>\n",
       "    <tr>\n",
       "      <th>2006-10-27</th>\n",
       "      <td>28.348</td>\n",
       "      <td>26.869520</td>\n",
       "    </tr>\n",
       "    <tr>\n",
       "      <th>2006-10-30</th>\n",
       "      <td>28.340</td>\n",
       "      <td>26.829227</td>\n",
       "    </tr>\n",
       "    <tr>\n",
       "      <th>2006-10-31</th>\n",
       "      <td>28.267</td>\n",
       "      <td>26.799921</td>\n",
       "    </tr>\n",
       "  </tbody>\n",
       "</table>\n",
       "</div>"
      ],
      "text/plain": [
       "             Close  Predicted\n",
       "Date                         \n",
       "2006-10-25  28.670  26.877455\n",
       "2006-10-26  28.654  26.875175\n",
       "2006-10-27  28.348  26.869520\n",
       "2006-10-30  28.340  26.829227\n",
       "2006-10-31  28.267  26.799921"
      ]
     },
     "execution_count": 63,
     "metadata": {},
     "output_type": "execute_result"
    }
   ],
   "source": [
    "print(\"Daily predcition\")\n",
    "test_prediction_data.head()"
   ]
  },
  {
   "cell_type": "code",
   "execution_count": 64,
   "id": "c74ee3a2",
   "metadata": {
    "execution": {
     "iopub.execute_input": "2022-12-02T14:24:06.555689Z",
     "iopub.status.busy": "2022-12-02T14:24:06.554531Z",
     "iopub.status.idle": "2022-12-02T14:24:06.869434Z",
     "shell.execute_reply": "2022-12-02T14:24:06.867885Z"
    },
    "papermill": {
     "duration": 0.347838,
     "end_time": "2022-12-02T14:24:06.872503",
     "exception": false,
     "start_time": "2022-12-02T14:24:06.524665",
     "status": "completed"
    },
    "tags": []
   },
   "outputs": [
    {
     "data": {
      "image/png": "[encoded data removed]",
      "text/plain": [
       "<Figure size 1008x360 with 1 Axes>"
      ]
     },
     "metadata": {
      "needs_background": "light"
     },
     "output_type": "display_data"
    }
   ],
   "source": [
    "plt.figure(figsize=(14,5))\n",
    "plt.plot(result_df,label=\"Real Values\",)\n",
    "plt.plot(train_prediction_data[\"Predicted\"],color=\"yellow\",label=\"Train Predicted\")\n",
    "plt.plot(test_prediction_data[\"Predicted\"],color=\"red\",label=\"Test Predicted\")\n",
    "plt.title(\"Yearly prediction\")\n",
    "plt.xlabel(\"Time\")\n",
    "plt.ylabel(\"Stock Values\")\n",
    "plt.legend()\n",
    "plt.show()"
   ]
  },
  {
   "cell_type": "code",
   "execution_count": 65,
   "id": "10359f18",
   "metadata": {},
   "outputs": [],
   "source": [
    "###pip install lib-0.1.0-py3-none-any.whl\n"
   ]
  },
  {
   "cell_type": "code",
   "execution_count": 68,
   "id": "58acf5be",
   "metadata": {},
   "outputs": [],
   "source": [
    "from sklearn import tree\n",
    "from sklearn import preprocessing\n",
    "lab = preprocessing.LabelEncoder()\n",
    "\n",
    "y_transformed = lab.fit_transform(y_train)\n",
    "\n",
    "model=tree.DecisionTreeClassifier()\n",
    "model.fit(X_train.reshape(11216,-1),y_transformed)\n",
    "y_pred=model.predict(X_test.reshape(2782,-1))\n",
    "ac.append(accuracy_score(y_pred,y_test,sample_weight=0.8)*100)"
   ]
  },
  {
   "cell_type": "code",
   "execution_count": 69,
   "id": "b57a047e",
   "metadata": {
    "scrolled": true
   },
   "outputs": [
    {
     "name": "stdout",
     "output_type": "stream",
     "text": [
      "the accuracy of Decision Tree is 94.19999999999999 and ANN is 96.00999999999999\n"
     ]
    },
    {
     "data": {
      "text/plain": [
       "(50.0, 100.0)"
      ]
     },
     "execution_count": 69,
     "metadata": {},
     "output_type": "execute_result"
    },
    {
     "data": {
      "image/png": "[encoded data removed]",
      "text/plain": [
       "<Figure size 432x288 with 1 Axes>"
      ]
     },
     "metadata": {},
     "output_type": "display_data"
    }
   ],
   "source": [
    "import numpy as np\n",
    "import seaborn as sns\n",
    "import matplotlib as plt\n",
    "\n",
    "\n",
    "plt.style.use('dark_background')\n",
    "x=['Decision Tree','ANN']\n",
    "ac.reverse()\n",
    "ax=sns.barplot(x,ac)\n",
    "ax.set_title('Accuracy comparison')\n",
    "ax.set_ylabel('Accuracy')\n",
    "#ax.yaxis.set_major_locator(ticker.LinearLocator())\n",
    "print(\"the accuracy of {} is {} and {} is {}\".format(x[0],ac[0],x[1],ac[1]))\n",
    "ax.set_ylim(50,100)"
   ]
  },
  {
   "cell_type": "code",
   "execution_count": null,
   "id": "af35668e",
   "metadata": {},
   "outputs": [],
   "source": []
  },
  {
   "cell_type": "code",
   "execution_count": null,
   "id": "f04e2331",
   "metadata": {},
   "outputs": [],
   "source": []
  },
  {
   "cell_type": "code",
   "execution_count": null,
   "id": "e6f55a11",
   "metadata": {},
   "outputs": [],
   "source": []
  },
  {
   "cell_type": "code",
   "execution_count": null,
   "id": "e5277c42",
   "metadata": {},
   "outputs": [],
   "source": []
  },
  {
   "cell_type": "code",
   "execution_count": null,
   "id": "d1ae0145",
   "metadata": {},
   "outputs": [],
   "source": []
  }
 ],
 "metadata": {
  "kernelspec": {
   "display_name": "Python 3 (ipykernel)",
   "language": "python",
   "name": "python3"
  },
  "language_info": {
   "codemirror_mode": {
    "name": "ipython",
    "version": 3
   },
   "file_extension": ".py",
   "mimetype": "text/x-python",
   "name": "python",
   "nbconvert_exporter": "python",
   "pygments_lexer": "ipython3",
   "version": "3.10.4"
  },
  "papermill": {
   "default_parameters": {},
   "duration": 35.293552,
   "end_time": "2022-12-02T14:24:09.552006",
   "environment_variables": {},
   "exception": null,
   "input_path": "__notebook__.ipynb",
   "output_path": "__notebook__.ipynb",
   "parameters": {},
   "start_time": "2022-12-02T14:23:34.258454",
   "version": "2.3.4"
  }
 },
 "nbformat": 4,
 "nbformat_minor": 5
}
